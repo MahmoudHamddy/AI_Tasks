{
  "cells": [
    {
      "cell_type": "markdown",
      "id": "f579fbd0-ecec-4c03-b391-1911421d6064",
      "metadata": {
        "id": "f579fbd0-ecec-4c03-b391-1911421d6064",
        "tags": []
      },
      "source": [
        "---\n",
        "# Cairo University Faculty of Engineering\n",
        "## Machine Learning \n",
        "## Assignment 5 \n",
        "\n",
        "---"
      ]
    },
    {
      "attachments": {},
      "cell_type": "markdown",
      "id": "c7de719a-c355-4eac-9fed-cd16ddf08836",
      "metadata": {
        "id": "c7de719a-c355-4eac-9fed-cd16ddf08836"
      },
      "source": [
        "Please write your full name here\n",
        "- **Name** : *Mahmoud Hamdy Mahmoud*"
      ]
    },
    {
      "cell_type": "markdown",
      "id": "ae460454-d47a-41d6-b95e-c2cba1677db8",
      "metadata": {
        "id": "ae460454-d47a-41d6-b95e-c2cba1677db8"
      },
      "source": [
        "# Clustering\n",
        "\n",
        "In this assignment, you will be exploring kmeans algorithms for clustering\n",
        "\n",
        "--------------------"
      ]
    },
    {
      "cell_type": "markdown",
      "id": "5888d221-c004-43d6-ae76-2b17fe976201",
      "metadata": {
        "id": "5888d221-c004-43d6-ae76-2b17fe976201"
      },
      "source": [
        "The k-means clustering is first given the wanted number of clusters, say k, as a hyperparameter. Next, to start the algorithm, k points from the data set are chosen randomly as cluster centres. Then the following phases are repeated iteratively:\n",
        "\n",
        "- any data point is set to belong to a cluster, whose centre is closest to it\n",
        "- then for each cluster a new centre is chosen as the average of the data points in the cluster\n",
        "This procedure is repeated until the clusters no longer change. This kind of algorithm is called an Expectation-Maximization (EM) algorithm, which is known to converge."
      ]
    },
    {
      "cell_type": "code",
      "execution_count": 175,
      "id": "84764ef8-a904-420b-874f-89b73052ace8",
      "metadata": {
        "id": "84764ef8-a904-420b-874f-89b73052ace8"
      },
      "outputs": [],
      "source": [
        "from sklearn.datasets import make_moons, make_blobs\n",
        "import numpy as np\n",
        "from sklearn.cluster import KMeans\n",
        "import matplotlib.pyplot as plt\n",
        "%matplotlib inline"
      ]
    },
    {
      "cell_type": "code",
      "execution_count": 176,
      "id": "5623c3b9-8d6d-4ea2-ad1b-149b4e261ff1",
      "metadata": {
        "colab": {
          "base_uri": "https://localhost:8080/"
        },
        "id": "5623c3b9-8d6d-4ea2-ad1b-149b4e261ff1",
        "outputId": "ca32b839-9b77-4a32-f775-e318325e9922"
      },
      "outputs": [
        {
          "name": "stdout",
          "output_type": "stream",
          "text": [
            "(250, 2)\n",
            "(250,)\n"
          ]
        }
      ],
      "source": [
        "X, y = make_moons(n_samples=250, noise=0.05, random_state=42)\n",
        "print(X.shape)\n",
        "print(y.shape)"
      ]
    },
    {
      "cell_type": "code",
      "execution_count": 177,
      "id": "T0kQT0c_meKT",
      "metadata": {
        "colab": {
          "base_uri": "https://localhost:8080/"
        },
        "id": "T0kQT0c_meKT",
        "outputId": "762245e9-6802-4f01-b647-466c36a247ba"
      },
      "outputs": [
        {
          "data": {
            "text/plain": [
              "array([[ 8.41540974e-02,  1.13341197e-01],\n",
              "       [ 1.05091536e+00,  1.54710235e-01],\n",
              "       [-7.16555269e-01,  6.75607887e-01],\n",
              "       [ 6.09316755e-02,  9.26542340e-01],\n",
              "       [-1.00552480e+00,  3.36425155e-01],\n",
              "       [ 7.63045744e-01, -4.82519400e-01],\n",
              "       [ 1.30067681e+00, -4.60456076e-01],\n",
              "       [ 8.93997023e-01, -5.39443631e-01],\n",
              "       [ 1.01492378e+00,  2.49633435e-01],\n",
              "       [-8.88621081e-01,  5.38566586e-01],\n",
              "       [ 1.36613788e+00, -3.56819676e-01],\n",
              "       [ 1.69872955e+00, -2.50238607e-01],\n",
              "       [ 1.93909982e+00,  7.98335031e-02],\n",
              "       [ 1.98164910e+00,  2.73166182e-01],\n",
              "       [-1.92842298e-01,  9.90722796e-01],\n",
              "       [ 1.87318667e+00, -1.28604429e-01],\n",
              "       [ 1.12842503e+00, -4.29068613e-01],\n",
              "       [ 9.60365014e-01,  5.24004362e-01],\n",
              "       [ 6.83418960e-01, -4.32057757e-01],\n",
              "       [ 8.36557987e-01,  5.74232279e-01],\n",
              "       [ 2.04424212e+00,  4.47864563e-01],\n",
              "       [ 7.89541222e-01,  4.20628768e-01],\n",
              "       [-8.99855447e-01,  3.09253977e-01],\n",
              "       [-1.70083737e-01,  1.01364818e+00],\n",
              "       [ 8.64100790e-01, -4.62976070e-01],\n",
              "       [ 4.16929826e-01,  9.18202726e-01],\n",
              "       [ 2.06768552e-01,  9.66869965e-01],\n",
              "       [ 9.98383587e-01,  1.53441053e-01],\n",
              "       [ 7.41612725e-01,  6.91498410e-01],\n",
              "       [-1.00574217e+00,  7.74054546e-02],\n",
              "       [ 1.31683658e+00, -4.78428187e-01],\n",
              "       [ 5.54481432e-01,  7.28612668e-01],\n",
              "       [ 1.35858678e-01,  8.88735937e-02],\n",
              "       [ 1.75654841e+00, -2.42976963e-01],\n",
              "       [ 7.40743386e-01,  5.54338955e-01],\n",
              "       [-9.97524363e-01,  2.64286007e-01],\n",
              "       [ 9.20293241e-01,  5.29340369e-01],\n",
              "       [ 1.19270090e+00, -5.58707061e-01],\n",
              "       [ 8.56420100e-01, -5.56110065e-01],\n",
              "       [ 2.89464236e-01, -2.34008340e-01],\n",
              "       [-9.96733805e-01,  1.17069019e-01],\n",
              "       [-7.55340560e-01,  6.30902041e-01],\n",
              "       [-8.24480429e-01,  3.60565618e-01],\n",
              "       [ 9.03680204e-01, -5.21468166e-01],\n",
              "       [ 1.75437757e+00, -1.02159856e-01],\n",
              "       [ 8.19380922e-01,  4.15657148e-01],\n",
              "       [ 1.11163727e-01,  3.15453600e-02],\n",
              "       [-1.78801952e-01,  1.01024975e+00],\n",
              "       [ 6.33124657e-01, -4.15851002e-01],\n",
              "       [ 6.54456705e-01,  7.83801620e-01],\n",
              "       [ 1.03252524e-02,  2.99269369e-01],\n",
              "       [ 1.90041253e+00, -9.29652950e-02],\n",
              "       [ 1.92478212e+00,  1.95990042e-01],\n",
              "       [-9.98773046e-01,  8.66633440e-02],\n",
              "       [ 2.01607705e-02,  2.32763980e-01],\n",
              "       [-1.06941992e-01,  1.03645475e+00],\n",
              "       [ 1.67299917e+00, -2.35023613e-01],\n",
              "       [ 2.71539502e-01, -5.81445137e-02],\n",
              "       [ 4.97623260e-01, -2.90178812e-01],\n",
              "       [ 1.81516796e+00,  2.61465591e-02],\n",
              "       [ 1.90198850e+00,  6.48805981e-02],\n",
              "       [ 3.27847838e-01, -1.77111950e-01],\n",
              "       [-1.00837743e+00,  7.17300661e-02],\n",
              "       [-5.49966384e-01,  8.55604463e-01],\n",
              "       [ 9.06805597e-05,  5.37796764e-01],\n",
              "       [ 6.11375169e-01, -3.53652874e-01],\n",
              "       [ 2.02325774e+00,  4.06240765e-01],\n",
              "       [-8.70031210e-01,  3.97519601e-01],\n",
              "       [ 6.66505683e-01, -3.38205158e-01],\n",
              "       [ 1.94000221e+00,  1.15502286e-01],\n",
              "       [-2.52781645e-01,  1.01822885e+00],\n",
              "       [ 3.54686494e-01, -1.88981657e-01],\n",
              "       [-1.00756489e+00,  1.82643859e-01],\n",
              "       [-3.50689868e-01,  8.82880254e-01],\n",
              "       [ 1.95965424e+00,  1.79135608e-01],\n",
              "       [-4.23791395e-01,  8.09785398e-01],\n",
              "       [ 8.19759719e-01,  6.21324827e-01],\n",
              "       [-6.15906179e-02,  4.33434719e-01],\n",
              "       [-3.19944988e-01,  9.06668534e-01],\n",
              "       [-5.44796440e-01,  8.11568854e-01],\n",
              "       [ 9.87483245e-01,  1.01044592e-01],\n",
              "       [ 1.53964975e-01,  1.01319832e+00],\n",
              "       [ 1.05858256e+00, -5.93402519e-01],\n",
              "       [ 1.97834556e+00,  8.60038698e-02],\n",
              "       [ 5.64102869e-01, -4.36058965e-01],\n",
              "       [-2.37493320e-02,  1.00856184e+00],\n",
              "       [-5.35625551e-03,  1.47203879e-01],\n",
              "       [-9.42781423e-01,  4.28932329e-02],\n",
              "       [ 1.58076309e+00, -3.57876102e-01],\n",
              "       [ 1.48729531e-01,  1.12406541e-01],\n",
              "       [ 6.29856834e-01,  6.64970026e-01],\n",
              "       [ 9.73741351e-01,  2.93136861e-01],\n",
              "       [ 6.21931794e-01,  8.76251701e-01],\n",
              "       [ 7.16095126e-01,  6.50658455e-01],\n",
              "       [ 4.95397335e-01,  8.34109782e-01],\n",
              "       [ 1.63507414e+00, -1.93640898e-01],\n",
              "       [ 9.39327586e-01,  5.49193155e-01],\n",
              "       [-7.02603152e-01,  7.11243303e-01],\n",
              "       [ 1.57895616e+00, -2.46854147e-01],\n",
              "       [-8.60243926e-01,  4.82453441e-01],\n",
              "       [ 1.96013416e-01,  9.65367181e-01],\n",
              "       [-6.88978962e-01,  6.82259107e-01],\n",
              "       [ 8.63270212e-02,  8.25279133e-02],\n",
              "       [ 1.30867374e+00, -4.12829733e-01],\n",
              "       [-2.80980058e-01,  8.90032626e-01],\n",
              "       [ 3.90315962e-01,  8.44195161e-01],\n",
              "       [-1.01238380e+00,  3.16694022e-01],\n",
              "       [ 1.88767659e-01, -2.25730970e-01],\n",
              "       [-4.23065928e-01,  8.44359095e-01],\n",
              "       [ 2.30863628e-01, -5.38191260e-03],\n",
              "       [ 8.23153642e-01,  6.38907309e-01],\n",
              "       [ 2.02153850e+00,  3.55368581e-01],\n",
              "       [ 4.22720017e-01, -4.05969894e-01],\n",
              "       [ 1.94612164e+00,  3.46309741e-01],\n",
              "       [-8.23563555e-02,  2.57773171e-01],\n",
              "       [ 9.05162639e-01,  2.99546663e-02],\n",
              "       [ 9.90312968e-01,  6.49079351e-02],\n",
              "       [-3.94545588e-01,  9.39513323e-01],\n",
              "       [ 3.70761979e-01,  8.91148754e-01],\n",
              "       [-8.65625258e-01,  6.47559713e-01],\n",
              "       [ 1.96289637e-02,  4.59825674e-01],\n",
              "       [ 1.50193647e-01, -1.03619463e-01],\n",
              "       [ 1.95031761e+00,  4.50109109e-01],\n",
              "       [-7.11828602e-01,  8.38215329e-01],\n",
              "       [-5.88138020e-01,  7.91217871e-01],\n",
              "       [ 6.34356363e-01, -4.92699529e-01],\n",
              "       [ 1.17655385e+00, -4.82003919e-01],\n",
              "       [-8.23041847e-01,  5.32075432e-01],\n",
              "       [ 5.36377240e-01,  8.24758720e-01],\n",
              "       [ 1.91932769e-02,  1.03212374e+00],\n",
              "       [ 4.47136711e-01, -2.98474265e-01],\n",
              "       [ 6.61329477e-04,  1.62173993e-01],\n",
              "       [ 1.03139656e+00,  2.52724712e-01],\n",
              "       [ 2.00901794e+00,  3.72972507e-01],\n",
              "       [ 1.34371500e+00, -4.95306035e-01],\n",
              "       [ 8.32692245e-01,  6.13191507e-01],\n",
              "       [ 2.40499915e-01, -1.83473915e-01],\n",
              "       [ 1.01199217e+00,  1.96744802e-01],\n",
              "       [-9.82739628e-01,  6.03130719e-02],\n",
              "       [ 7.68774066e-01,  7.54845484e-01],\n",
              "       [ 8.14262083e-02,  1.04801875e-01],\n",
              "       [ 7.36970991e-01, -5.06578512e-01],\n",
              "       [ 1.13245960e-02,  1.29749761e-01],\n",
              "       [ 1.66586647e-02,  9.87104892e-01],\n",
              "       [-1.41985580e-01,  2.35934315e-01],\n",
              "       [-2.30085262e-02,  4.68708154e-01],\n",
              "       [ 1.80680888e+00,  7.66701743e-02],\n",
              "       [ 1.51023383e+00, -4.17300059e-01],\n",
              "       [-1.43817366e-01,  1.00579053e+00],\n",
              "       [ 1.13801188e+00, -4.51854564e-01],\n",
              "       [-4.79456251e-02,  1.01073406e+00],\n",
              "       [ 4.81561777e-01,  1.00042718e+00],\n",
              "       [ 4.83595738e-01, -3.71334091e-01],\n",
              "       [ 4.27502468e-01,  9.46709431e-01],\n",
              "       [-1.01284116e+00,  5.20731788e-02],\n",
              "       [ 3.36537239e-01, -1.39992367e-01],\n",
              "       [ 8.25238299e-01,  6.21276364e-01],\n",
              "       [ 1.59430507e+00, -2.91458161e-01],\n",
              "       [ 8.22673634e-01, -4.34573563e-01],\n",
              "       [-4.44217241e-01,  8.17780564e-01],\n",
              "       [ 5.74547421e-01,  7.31845529e-01],\n",
              "       [ 1.64606277e+00, -4.03736997e-01],\n",
              "       [ 4.51539239e-01,  8.88005222e-01],\n",
              "       [-6.96781502e-01,  6.43360506e-01],\n",
              "       [ 1.12578888e+00, -5.08878851e-01],\n",
              "       [ 4.11282995e-01, -2.90022518e-01],\n",
              "       [ 3.94713405e-01,  9.11565376e-01],\n",
              "       [ 1.00491510e-01,  6.69636771e-02],\n",
              "       [ 8.61868415e-01, -4.95825373e-01],\n",
              "       [ 1.08125924e+00,  1.95014954e-01],\n",
              "       [-8.47058335e-01,  4.48639639e-01],\n",
              "       [ 2.07315004e-01,  9.33182299e-01],\n",
              "       [-1.07918504e-02,  2.85020993e-01],\n",
              "       [ 1.94685691e+00, -3.88250939e-02],\n",
              "       [ 1.09012513e+00, -4.86385061e-01],\n",
              "       [ 1.91757921e+00,  8.42727807e-02],\n",
              "       [ 3.63422548e-01,  9.49699645e-01],\n",
              "       [ 4.67168160e-01, -3.59780609e-01],\n",
              "       [-3.51357680e-01,  9.10428529e-01],\n",
              "       [ 6.71383431e-01,  7.19532528e-01],\n",
              "       [ 1.48658799e+00, -3.53806780e-01],\n",
              "       [ 9.25826602e-01,  9.34651868e-02],\n",
              "       [ 6.20327446e-01, -4.43396303e-01],\n",
              "       [-9.24756059e-01,  2.82753449e-01],\n",
              "       [-7.48410140e-01,  7.52348059e-01],\n",
              "       [-5.24784978e-01,  7.56237025e-01],\n",
              "       [ 1.85793068e+00, -1.77488836e-01],\n",
              "       [ 1.99043825e+00, -3.84966266e-02],\n",
              "       [-6.11864010e-01,  8.57363102e-01],\n",
              "       [ 1.05350164e+00,  3.00605340e-01],\n",
              "       [ 8.70095557e-01,  2.66644712e-01],\n",
              "       [ 8.72329779e-02,  1.03910029e+00],\n",
              "       [ 1.65081111e+00, -3.40657824e-01],\n",
              "       [ 3.63605836e-02,  3.38859653e-01],\n",
              "       [ 8.98360843e-01,  3.03611471e-01],\n",
              "       [ 5.32578420e-01, -3.54511798e-01],\n",
              "       [-1.60894304e-01,  9.64351737e-01],\n",
              "       [ 1.77033059e+00, -1.28793935e-01],\n",
              "       [-6.14242259e-02,  4.04786927e-01],\n",
              "       [ 1.39596937e+00, -3.83944461e-01],\n",
              "       [ 1.91838913e+00, -3.73585050e-03],\n",
              "       [ 6.70163023e-02,  1.01297684e+00],\n",
              "       [ 1.90624888e-01,  9.86455339e-01],\n",
              "       [-8.70460181e-01,  4.18048901e-01],\n",
              "       [ 3.43459618e-01,  8.69895649e-01],\n",
              "       [ 1.93067862e+00,  1.42407452e-01],\n",
              "       [ 7.76412421e-01, -3.47049763e-01],\n",
              "       [ 1.53862659e+00, -4.12402904e-01],\n",
              "       [ 1.17014308e+00, -5.28937231e-01],\n",
              "       [ 1.98645256e+00,  4.32043556e-01],\n",
              "       [ 1.50787776e+00, -3.42156486e-01],\n",
              "       [ 1.79295620e+00, -1.58598687e-01],\n",
              "       [ 5.93010896e-01, -4.07264923e-01],\n",
              "       [ 1.30133494e-01,  1.01973391e+00],\n",
              "       [ 3.85447617e-01,  9.69650467e-01],\n",
              "       [-6.34227601e-01,  8.13711246e-01],\n",
              "       [ 8.94441988e-01,  4.42739571e-01],\n",
              "       [ 1.12636377e-01,  1.02239287e+00],\n",
              "       [ 1.47982048e+00, -3.77712802e-01],\n",
              "       [ 4.56676861e-01, -2.94934321e-01],\n",
              "       [ 1.99682455e+00,  3.63866999e-01],\n",
              "       [ 8.83682414e-01, -4.24459839e-01],\n",
              "       [ 1.00812283e+00, -4.45022320e-01],\n",
              "       [ 3.94722661e-02,  2.81852028e-01],\n",
              "       [ 4.77423984e-01,  8.77652359e-01],\n",
              "       [ 3.71769184e-01, -2.68835969e-01],\n",
              "       [ 1.89365819e+00,  1.78324996e-01],\n",
              "       [ 9.99041868e-01,  7.80524751e-02],\n",
              "       [ 2.74631578e-01,  1.04722866e+00],\n",
              "       [ 2.27740448e-01, -3.52295626e-02],\n",
              "       [-9.59341307e-03,  3.52395343e-01],\n",
              "       [ 2.06636314e-01, -2.00588291e-02],\n",
              "       [-8.82085737e-01,  5.20322240e-01],\n",
              "       [-9.18268409e-01,  6.25667483e-01],\n",
              "       [-8.66670027e-01,  1.54616615e-01],\n",
              "       [-4.33154940e-01,  8.15140294e-01],\n",
              "       [ 1.24230304e+00, -4.47929912e-01],\n",
              "       [-2.32841195e-01,  1.05410512e+00],\n",
              "       [ 1.66784697e+00, -1.96635930e-01],\n",
              "       [ 1.49140344e+00, -3.68984892e-01],\n",
              "       [-1.08108588e+00,  4.56799604e-02],\n",
              "       [ 2.03809595e+00,  5.10632788e-01],\n",
              "       [ 9.17739068e-01,  4.38476262e-01],\n",
              "       [ 9.81556463e-01, -4.89448565e-01],\n",
              "       [-2.56180461e-01,  1.03920861e+00],\n",
              "       [-9.29175484e-01,  4.15624689e-01],\n",
              "       [ 9.58694103e-01,  3.27840843e-01],\n",
              "       [-7.50714139e-01,  6.69824996e-01],\n",
              "       [ 8.25589778e-01, -5.47465517e-01],\n",
              "       [-7.78786036e-01,  4.94444046e-01]])"
            ]
          },
          "execution_count": 177,
          "metadata": {},
          "output_type": "execute_result"
        }
      ],
      "source": [
        "X"
      ]
    },
    {
      "cell_type": "markdown",
      "id": "383914a1-379f-4ab8-aeb9-f6d2510a7e2b",
      "metadata": {
        "id": "383914a1-379f-4ab8-aeb9-f6d2510a7e2b"
      },
      "source": [
        "# Question 0\n",
        "Set random seed to 47"
      ]
    },
    {
      "cell_type": "code",
      "execution_count": 178,
      "id": "ff964409-2b6c-414a-8ba1-c2b4a3d21435",
      "metadata": {
        "id": "ff964409-2b6c-414a-8ba1-c2b4a3d21435"
      },
      "outputs": [],
      "source": [
        "np.random.seed(47)"
      ]
    },
    {
      "cell_type": "markdown",
      "id": "0722c8d8-2ab9-448e-9120-03e601dcdb55",
      "metadata": {
        "id": "0722c8d8-2ab9-448e-9120-03e601dcdb55"
      },
      "source": [
        "# Question 1\n",
        "Scatter plot the dataset"
      ]
    },
    {
      "cell_type": "code",
      "execution_count": 179,
      "id": "be84f4f2-9116-44fb-9a5a-616747a3632b",
      "metadata": {
        "colab": {
          "base_uri": "https://localhost:8080/",
          "height": 368
        },
        "id": "be84f4f2-9116-44fb-9a5a-616747a3632b",
        "outputId": "cbc44ad5-0849-478b-877c-b4ed659220db"
      },
      "outputs": [
        {
          "data": {
            "image/png": "[encoded data removed]",
            "text/plain": [
              "<Figure size 576x288 with 1 Axes>"
            ]
          },
          "metadata": {
            "needs_background": "light"
          },
          "output_type": "display_data"
        }
      ],
      "source": [
        "plt.figure(figsize=(8, 4))\n",
        "plt.scatter(X[:, 0], X[:, 1], c=None)\n",
        "plt.show()"
      ]
    },
    {
      "cell_type": "markdown",
      "id": "a49319f4-4507-4422-bb87-daee8ead8ed8",
      "metadata": {
        "id": "a49319f4-4507-4422-bb87-daee8ead8ed8"
      },
      "source": [
        "# Question 2\n",
        "In your opinon, how well will K-Means perform on the above dataset? Explain."
      ]
    },
    {
      "attachments": {},
      "cell_type": "markdown",
      "id": "2e296ec8-560f-4842-ba1f-506d5461f71a",
      "metadata": {
        "id": "2e296ec8-560f-4842-ba1f-506d5461f71a"
      },
      "source": [
        "ANSWER: It won't perform very well as there's a big overlap between the 2 clusters as they won't be seprable in a good way cause they aren't uniform in density. So K-Means will not perform very well on these data it's prefered to use it on a seprable data"
      ]
    },
    {
      "cell_type": "markdown",
      "id": "d1d75c03-a40d-4805-a98e-3f0f897889aa",
      "metadata": {
        "id": "d1d75c03-a40d-4805-a98e-3f0f897889aa"
      },
      "source": [
        "# Question 3\n",
        "1. Use Elbow method to find best \"k\". (Use inertia as metric).\n",
        "2. Plot the elbow graph.\n",
        "3. Train SKlearn KMeans model using \"k = 2\".\n",
        "4. Scatter plot the data after clustering with colors\n",
        "5. **Comment on the results.**"
      ]
    },
    {
      "attachments": {},
      "cell_type": "markdown",
      "id": "c0d602ff-fede-4f59-80fe-90f88b542af4",
      "metadata": {
        "id": "c0d602ff-fede-4f59-80fe-90f88b542af4"
      },
      "source": [
        "ANSWER: We observe that at k = 4 is the optimal one as it's The starting point which starts slowing down which leads to marked decrement in inertia\n",
        "\n",
        "->So from the scatter plot drawn with k = 2 we observe that K-Means didn't perform very well on the data "
      ]
    },
    {
      "cell_type": "code",
      "execution_count": 184,
      "id": "66814da2-c5a2-4ce2-ae13-6270c1315f19",
      "metadata": {
        "colab": {
          "base_uri": "https://localhost:8080/",
          "height": 472
        },
        "id": "66814da2-c5a2-4ce2-ae13-6270c1315f19",
        "outputId": "4140f2b4-1ae1-4d95-cc9a-dd26a8358c69"
      },
      "outputs": [
        {
          "data": {
            "image/png": "[encoded data removed]",
            "text/plain": [
              "<Figure size 432x288 with 1 Axes>"
            ]
          },
          "metadata": {
            "needs_background": "light"
          },
          "output_type": "display_data"
        }
      ],
      "source": [
        "wcss = []\n",
        "for i in range(1, 10):\n",
        "    kmeans = KMeans(n_clusters=i,random_state=0)\n",
        "    kmeans.fit(X)\n",
        "    wcss.append(kmeans.inertia_)\n",
        "plt.plot(range(1, 10), wcss, 'x-')\n",
        "plt.title('Elbow Method')\n",
        "plt.xlabel('Number of clusters')\n",
        "plt.ylabel('WCSS')\n",
        "plt.show()"
      ]
    },
    {
      "cell_type": "code",
      "execution_count": 193,
      "id": "ffc53401-f4a7-4f08-9f09-2553a9113509",
      "metadata": {
        "id": "ffc53401-f4a7-4f08-9f09-2553a9113509"
      },
      "outputs": [
        {
          "name": "stdout",
          "output_type": "stream",
          "text": [
            "[0 1 0 0 0 1 1 1 1 0 1 1 1 1 0 1 1 1 1 1 1 1 0 0 1 0 0 1 1 0 1 0 0 1 1 0 1\n",
            " 1 1 1 0 0 0 1 1 1 0 0 1 0 0 1 1 0 0 0 1 0 1 1 1 1 0 0 0 1 1 0 1 1 0 1 0 0\n",
            " 1 0 1 0 0 0 1 0 1 1 1 0 0 0 1 0 0 1 0 1 0 1 1 0 1 0 0 0 0 1 0 0 0 0 0 0 1\n",
            " 1 1 1 0 1 1 0 0 0 0 0 1 0 0 1 1 0 0 0 1 0 1 1 1 1 0 1 0 1 0 1 0 0 0 0 1 1\n",
            " 0 1 0 0 1 0 0 1 1 1 1 0 0 1 0 0 1 1 0 0 1 1 0 0 0 1 1 1 0 1 0 0 1 1 1 0 0\n",
            " 0 1 1 0 1 1 0 1 0 1 1 0 1 0 1 1 0 0 0 0 1 1 1 1 1 1 1 1 0 0 0 1 0 1 1 1 1\n",
            " 1 0 0 1 1 1 0 0 0 0 0 0 0 0 1 0 1 1 0 1 1 1 0 0 1 0 1 0]\n"
          ]
        }
      ],
      "source": [
        "Kmodel = KMeans(n_clusters=2, random_state=0)\n",
        "Kmodel.fit(X)\n",
        "# pred_y = kmeans.fit_predict(X)\n",
        "pred_y = kmeans.predict(X)\n",
        "print(pred_y)\n"
      ]
    },
    {
      "cell_type": "code",
      "execution_count": 195,
      "id": "hJnxivtYDC4N",
      "metadata": {
        "colab": {
          "base_uri": "https://localhost:8080/",
          "height": 430
        },
        "id": "hJnxivtYDC4N",
        "outputId": "0d988a99-56bd-40a0-b390-b3e289428f47"
      },
      "outputs": [
        {
          "data": {
            "image/png": "[encoded data removed]",
            "text/plain": [
              "<Figure size 432x288 with 1 Axes>"
            ]
          },
          "metadata": {
            "needs_background": "light"
          },
          "output_type": "display_data"
        }
      ],
      "source": [
        "plt.scatter(X[:,0], X[:,1], c=pred_y)\n",
        "plt.title(\"K-Means with k = 2\")\n",
        "plt.show()"
      ]
    },
    {
      "cell_type": "markdown",
      "id": "78164e59-d47e-4b94-a8c7-10a4fa437753",
      "metadata": {
        "id": "78164e59-d47e-4b94-a8c7-10a4fa437753"
      },
      "source": [
        "- Try DBSCAN algorithm on the same data with eps = 0.3\n",
        "- Scatter plot the resulting clusters"
      ]
    },
    {
      "cell_type": "code",
      "execution_count": 9,
      "id": "334ea62e-3e00-47ad-a5c1-4f7fdec11b12",
      "metadata": {
        "colab": {
          "base_uri": "https://localhost:8080/",
          "height": 430
        },
        "id": "334ea62e-3e00-47ad-a5c1-4f7fdec11b12",
        "outputId": "83223fe8-3a88-47f8-e2d6-101a19ff1460"
      },
      "outputs": [
        {
          "data": {
            "image/png": "[encoded data removed]",
            "text/plain": [
              "<Figure size 432x288 with 1 Axes>"
            ]
          },
          "metadata": {
            "needs_background": "light"
          },
          "output_type": "display_data"
        }
      ],
      "source": [
        "from sklearn.cluster import DBSCAN\n",
        "dbscan = DBSCAN(eps=0.3)\n",
        "pred_y = dbscan.fit_predict(X)\n",
        "plt.scatter(X[:,0], X[:,1], c=pred_y)\n",
        "plt.show()"
      ]
    },
    {
      "cell_type": "markdown",
      "id": "a6c5a68a-68ff-4ec7-a185-f46dcb1d7f5f",
      "metadata": {
        "id": "a6c5a68a-68ff-4ec7-a185-f46dcb1d7f5f"
      },
      "source": [
        "**Compare between DBSCAN and kmeans results on the same data. Why do you think you got those results??**"
      ]
    },
    {
      "attachments": {},
      "cell_type": "markdown",
      "id": "fa403d5e-2be9-4287-8a06-4b9b190a0fa2",
      "metadata": {
        "id": "fa403d5e-2be9-4287-8a06-4b9b190a0fa2"
      },
      "source": [
        "ANSWER: \n",
        "DBSCAN did very well on this data as it's based on the density of the data unlike the K-Means which is based on the difference between the mean(avg) of the data and the data points themselves so the DBSCAN is very useful for this kind of data as it's clustering the data according to how dense they are "
      ]
    },
    {
      "cell_type": "markdown",
      "id": "00e11181-55bc-4aa6-a68d-7f78bcce0041",
      "metadata": {
        "id": "00e11181-55bc-4aa6-a68d-7f78bcce0041",
        "tags": []
      },
      "source": [
        "# Question 4\n",
        "For the following dataset\n",
        "1. Run kmeans algorithm clustering using k=2.\n",
        "3. Plot results of algorithm.\n",
        "4. Comment on the following\n",
        "    * Why do kmeans fail to cluster such data?"
      ]
    },
    {
      "attachments": {},
      "cell_type": "markdown",
      "id": "b36d160a-d684-4ce5-bfb8-7babd6e4ed88",
      "metadata": {
        "id": "b36d160a-d684-4ce5-bfb8-7babd6e4ed88"
      },
      "source": [
        "ANSWER: \n",
        "As the K-Menas looks to how the data are alligned in such a spherical way to calculate their centroid but the provided data wasn't spherical which will be very difficult for K-Means to cluster them so we can use the DBSCAN on this model which will cluster them better than the K-Means"
      ]
    },
    {
      "cell_type": "code",
      "execution_count": 199,
      "id": "5394c35c-1a80-430a-af05-165d08184236",
      "metadata": {
        "id": "5394c35c-1a80-430a-af05-165d08184236"
      },
      "outputs": [],
      "source": [
        "n_samples = 1500\n",
        "random_state = 170\n",
        "X, y = make_blobs(n_samples=n_samples, random_state=random_state, centers=2)\n",
        "transformation = [[0.60834549, -0.63667341], [-0.40887718, 0.85253229]]\n",
        "X_aniso = np.dot(X, transformation)"
      ]
    },
    {
      "cell_type": "code",
      "execution_count": 200,
      "id": "6d3d3f79-a00c-490d-9425-fc654f740e8e",
      "metadata": {
        "id": "6d3d3f79-a00c-490d-9425-fc654f740e8e"
      },
      "outputs": [],
      "source": [
        "Kmodel = KMeans(n_clusters=2,random_state=0)\n",
        "# Kmodel.fit(X)\n",
        "pred_y = kmeans.fit_predict(X_aniso)"
      ]
    },
    {
      "cell_type": "code",
      "execution_count": 201,
      "id": "b83dc1aa-8350-411d-90da-95dfdc2c6a98",
      "metadata": {
        "colab": {
          "base_uri": "https://localhost:8080/",
          "height": 430
        },
        "id": "b83dc1aa-8350-411d-90da-95dfdc2c6a98",
        "outputId": "f4c5e145-5869-4958-a60c-23d4456ff705"
      },
      "outputs": [
        {
          "data": {
            "image/png": "[encoded data removed]",
            "text/plain": [
              "<Figure size 432x288 with 1 Axes>"
            ]
          },
          "metadata": {
            "needs_background": "light"
          },
          "output_type": "display_data"
        }
      ],
      "source": [
        "plt.scatter(X_aniso[:,0], X_aniso[:,1], c=pred_y)\n",
        "plt.show()"
      ]
    },
    {
      "cell_type": "markdown",
      "id": "84aa9270-3c33-426d-804f-2380a400dfce",
      "metadata": {
        "id": "84aa9270-3c33-426d-804f-2380a400dfce"
      },
      "source": [
        "# Question 5\n",
        "Write your own K-means clustering from scratch, where the Euclidian distance is used to evaluate\n",
        "the distance/ similarity between the dataset. The input to this function should be:\n",
        "* The number of clusters\n",
        "* The dataset\n",
        "\n",
        "The output should be:\n",
        "* The list of cluster centers"
      ]
    },
    {
      "cell_type": "code",
      "execution_count": 202,
      "id": "23133e0c-3b80-4202-93c8-17ef34dcc1bc",
      "metadata": {
        "id": "23133e0c-3b80-4202-93c8-17ef34dcc1bc"
      },
      "outputs": [],
      "source": [
        "def K_Means_algo(nClusters, data):\n",
        "  centeroids = data[np.random.choice(data.shape[0], nClusters, replace=False)]\n",
        "  while(True):\n",
        "     #Get the array with (Xp-Xc)**2 and (yp-yc)**2\n",
        "    differences_square = np.array([(X-centeroids[i])**2 for i in range(nClusters)])\n",
        "    #Sum them to get the Eculidean distance\n",
        "    distances = np.sqrt([[differences_square[i][j][0]+differences_square[i][j][1] for j in range(len(differences_square[i]))] for i in range(nClusters)]) \n",
        "    #Get the min differences indices column-wise\n",
        "    min_distances_labels = np.argmin(distances, axis = 0)\n",
        "    #Get the new centroids\n",
        "    new_Centroids = np.array([data[min_distances_labels == i].mean(axis = 0) for i in range(nClusters)])\n",
        "    #As the centroids didn't change then they're the cluster's centroids\n",
        "    if(np.all(new_Centroids == centeroids)):\n",
        "      break\n",
        "    #Update the centroids\n",
        "    centeroids = new_Centroids\n",
        "  return centeroids"
      ]
    },
    {
      "cell_type": "markdown",
      "id": "d258d5b7-654b-46f2-b731-4a2ccf88c7af",
      "metadata": {
        "id": "d258d5b7-654b-46f2-b731-4a2ccf88c7af"
      },
      "source": [
        "# Question 6\n",
        "For the following dataset:"
      ]
    },
    {
      "cell_type": "code",
      "execution_count": 205,
      "id": "a64a12be-b235-4b62-a620-922a8bcceb76",
      "metadata": {
        "colab": {
          "base_uri": "https://localhost:8080/"
        },
        "id": "a64a12be-b235-4b62-a620-922a8bcceb76",
        "outputId": "26e557ba-b48a-46c8-8c09-348bc7929acb"
      },
      "outputs": [
        {
          "name": "stdout",
          "output_type": "stream",
          "text": [
            "[[ 2.26403424  1.82613379]\n",
            " [-0.97647444  2.59138889]\n",
            " [ 1.10046838  4.02254067]\n",
            " [-2.82715074  7.11970523]\n",
            " [ 1.53393915  0.31915668]\n",
            " [ 0.98362009  5.55389667]\n",
            " [-1.74452433  2.98606238]\n",
            " [ 0.35482006  2.9172298 ]\n",
            " [ 1.83747356  5.14545322]\n",
            " [ 1.48663347  4.39407536]] [1 2 0 3 1 0 2 0 0 0]\n"
          ]
        }
      ],
      "source": [
        "from sklearn.datasets import make_blobs\n",
        "X,y = make_blobs(centers=4, n_samples=200, random_state=0, cluster_std=0.7)\n",
        "print(X[:10],y[:10])\n"
      ]
    },
    {
      "cell_type": "markdown",
      "id": "d0641a79-6b09-44a4-9680-9d31f13a9b54",
      "metadata": {
        "id": "d0641a79-6b09-44a4-9680-9d31f13a9b54"
      },
      "source": [
        "- Scatter plot the data **without** coloring the points using labels. \n",
        "- How many clusters do you see?"
      ]
    },
    {
      "cell_type": "markdown",
      "id": "5a4a6a8a-d610-40e5-b2e7-0bc11652976a",
      "metadata": {
        "id": "5a4a6a8a-d610-40e5-b2e7-0bc11652976a"
      },
      "source": [
        "ANSWER: we can see 4 clusters"
      ]
    },
    {
      "cell_type": "code",
      "execution_count": 206,
      "id": "dba6271e-5bd5-4650-8b0f-2e2c8d493c73",
      "metadata": {
        "colab": {
          "base_uri": "https://localhost:8080/",
          "height": 430
        },
        "id": "dba6271e-5bd5-4650-8b0f-2e2c8d493c73",
        "outputId": "ebb607be-57f7-4358-9a0a-e939347ccb23"
      },
      "outputs": [
        {
          "data": {
            "image/png": "[encoded data removed]",
            "text/plain": [
              "<Figure size 432x288 with 1 Axes>"
            ]
          },
          "metadata": {
            "needs_background": "light"
          },
          "output_type": "display_data"
        }
      ],
      "source": [
        "plt.scatter(X[:,0], X[:,1], c=None)\n",
        "plt.show()"
      ]
    },
    {
      "cell_type": "markdown",
      "id": "78033f43-2932-4e39-b2c8-6641c9a7c7f4",
      "metadata": {
        "id": "78033f43-2932-4e39-b2c8-6641c9a7c7f4"
      },
      "source": [
        "# Question 7"
      ]
    },
    {
      "cell_type": "markdown",
      "id": "005a69c1-9562-4677-b7c3-395099a9f02f",
      "metadata": {
        "id": "005a69c1-9562-4677-b7c3-395099a9f02f"
      },
      "source": [
        "- Use sklearn kmeans to cluster the ABOVE data with k = the number you chose in the above question\n",
        "    - Print the clusters centers\n",
        "    - Scatter plot the data and use the labels **predicted** by the model to color the points --> you should have as many colors in the plot as clusters\n",
        "    - On the same plot, show the cluster centers"
      ]
    },
    {
      "cell_type": "code",
      "execution_count": 214,
      "id": "SofvthLj8qlw",
      "metadata": {
        "id": "SofvthLj8qlw"
      },
      "outputs": [],
      "source": [
        "Kmodel = KMeans(n_clusters=4, random_state=0)\n",
        "pred_y = Kmodel.fit_predict(X)"
      ]
    },
    {
      "cell_type": "code",
      "execution_count": 215,
      "id": "fEOy2hXZ85HC",
      "metadata": {
        "colab": {
          "base_uri": "https://localhost:8080/"
        },
        "id": "fEOy2hXZ85HC",
        "outputId": "43275a55-cccc-41b7-d96e-e4e71831bfff"
      },
      "outputs": [
        {
          "data": {
            "text/plain": [
              "array([[-1.36512238,  7.70188306],\n",
              "       [-1.70639178,  2.9104771 ],\n",
              "       [ 2.07464749,  0.9869902 ],\n",
              "       [ 0.86008475,  4.31501411]])"
            ]
          },
          "execution_count": 215,
          "metadata": {},
          "output_type": "execute_result"
        }
      ],
      "source": [
        "Kmodel.cluster_centers_"
      ]
    },
    {
      "cell_type": "code",
      "execution_count": 216,
      "id": "LQHQVECV9AGP",
      "metadata": {
        "colab": {
          "base_uri": "https://localhost:8080/"
        },
        "id": "LQHQVECV9AGP",
        "outputId": "7263e07c-c538-4ac1-ad9f-6d6f8f8250cd"
      },
      "outputs": [
        {
          "data": {
            "text/plain": [
              "array([[ 0.8800426 ,  4.33705463],\n",
              "       [-1.36512238,  7.70188306],\n",
              "       [-1.67478716,  2.91620098],\n",
              "       [ 2.07464749,  0.9869902 ]])"
            ]
          },
          "execution_count": 216,
          "metadata": {},
          "output_type": "execute_result"
        }
      ],
      "source": [
        "K_Means_algo(4, X)"
      ]
    },
    {
      "cell_type": "code",
      "execution_count": 217,
      "id": "54e54e77-ac00-4b7f-b0cd-ec686fa76e01",
      "metadata": {
        "colab": {
          "base_uri": "https://localhost:8080/",
          "height": 430
        },
        "id": "54e54e77-ac00-4b7f-b0cd-ec686fa76e01",
        "outputId": "6bc36272-793d-4a37-d50f-f1f5760a9a27"
      },
      "outputs": [
        {
          "data": {
            "image/png": "[encoded data removed]",
            "text/plain": [
              "<Figure size 432x288 with 1 Axes>"
            ]
          },
          "metadata": {
            "needs_background": "light"
          },
          "output_type": "display_data"
        }
      ],
      "source": [
        "plt.scatter(X[:,0], X[:,1], c=pred_y)\n",
        "plt.scatter(Kmodel.cluster_centers_[:, 0], Kmodel.cluster_centers_[:, 1], marker = '*', linewidths = 3 , c='r')\n",
        "plt.show()"
      ]
    },
    {
      "cell_type": "markdown",
      "id": "9b72fa2f-02e6-497f-8519-e92b2b25f064",
      "metadata": {
        "id": "9b72fa2f-02e6-497f-8519-e92b2b25f064"
      },
      "source": [
        "- Calculate the accuracy score between kmeans prediction and the true blobs labels"
      ]
    },
    {
      "cell_type": "code",
      "execution_count": 218,
      "id": "8cab5aee-9d17-4430-9aca-4246278b5c7c",
      "metadata": {
        "colab": {
          "base_uri": "https://localhost:8080/"
        },
        "id": "8cab5aee-9d17-4430-9aca-4246278b5c7c",
        "outputId": "a8ea887b-91c6-4989-d598-cb7b4027a4bd"
      },
      "outputs": [
        {
          "data": {
            "text/plain": [
              "0.0"
            ]
          },
          "execution_count": 218,
          "metadata": {},
          "output_type": "execute_result"
        }
      ],
      "source": [
        "from sklearn.metrics import accuracy_score\n",
        "accuracy_score(y, pred_y)"
      ]
    },
    {
      "cell_type": "code",
      "execution_count": 219,
      "id": "4Gvib-oQLgqT",
      "metadata": {
        "colab": {
          "base_uri": "https://localhost:8080/"
        },
        "id": "4Gvib-oQLgqT",
        "outputId": "fbe07cec-81cb-4d9f-a29b-56c116323022"
      },
      "outputs": [
        {
          "data": {
            "text/plain": [
              "array([2, 1, 3, 0, 2, 3, 1, 3, 3, 3, 3, 2, 1, 1, 2, 3, 0, 0, 0, 2, 0, 1,\n",
              "       2, 1, 2, 2, 0, 2, 2, 3, 0, 3, 1, 2, 1, 3, 1, 3, 3, 0, 0, 0, 0, 3,\n",
              "       2, 1, 3, 0, 0, 3, 0, 1, 1, 0, 3, 0, 1, 2, 3, 2, 0, 3, 2, 3, 0, 3,\n",
              "       2, 0, 1, 1, 2, 2, 3, 3, 1, 0, 1, 1, 2, 2, 0, 3, 2, 1, 1, 3, 3, 2,\n",
              "       1, 1, 0, 0, 0, 3, 3, 2, 1, 0, 3, 3, 0, 2, 2, 0, 0, 1, 3, 2, 2, 3,\n",
              "       0, 1, 1, 2, 2, 3, 1, 1, 0, 3, 0, 1, 3, 2, 3, 1, 3, 1, 2, 3, 1, 2,\n",
              "       3, 0, 0, 1, 0, 0, 2, 0, 2, 1, 2, 2, 1, 2, 3, 2, 1, 0, 0, 0, 3, 1,\n",
              "       2, 3, 0, 1, 0, 2, 0, 2, 2, 1, 1, 0, 3, 2, 2, 1, 2, 3, 1, 0, 0, 0,\n",
              "       3, 3, 1, 3, 3, 2, 3, 2, 3, 1, 1, 0, 3, 0, 2, 2, 3, 0, 1, 1, 1, 3,\n",
              "       0, 2])"
            ]
          },
          "execution_count": 219,
          "metadata": {},
          "output_type": "execute_result"
        }
      ],
      "source": [
        "pred_y"
      ]
    },
    {
      "cell_type": "code",
      "execution_count": 220,
      "id": "KhcM8495Lkpp",
      "metadata": {
        "colab": {
          "base_uri": "https://localhost:8080/"
        },
        "id": "KhcM8495Lkpp",
        "outputId": "ab77c1b3-0deb-428c-f2b0-644b2a112c31"
      },
      "outputs": [
        {
          "data": {
            "text/plain": [
              "array([1, 2, 0, 3, 1, 0, 2, 0, 0, 0, 0, 1, 2, 2, 1, 0, 3, 3, 3, 1, 3, 2,\n",
              "       1, 2, 1, 1, 3, 1, 1, 0, 3, 0, 2, 1, 2, 0, 2, 0, 0, 3, 3, 3, 3, 0,\n",
              "       1, 2, 0, 3, 3, 0, 3, 2, 2, 3, 0, 3, 2, 1, 0, 1, 3, 0, 1, 0, 3, 0,\n",
              "       1, 3, 2, 2, 1, 1, 0, 0, 2, 3, 2, 2, 1, 1, 3, 0, 1, 2, 2, 0, 0, 1,\n",
              "       2, 2, 3, 3, 3, 0, 0, 1, 2, 3, 0, 0, 3, 1, 1, 3, 3, 2, 0, 1, 1, 0,\n",
              "       3, 2, 2, 1, 1, 0, 2, 2, 3, 0, 3, 2, 0, 1, 0, 2, 0, 2, 1, 0, 2, 1,\n",
              "       2, 3, 3, 2, 3, 3, 1, 3, 1, 2, 1, 1, 2, 1, 0, 1, 2, 3, 3, 3, 0, 2,\n",
              "       1, 0, 3, 2, 3, 1, 3, 1, 1, 2, 2, 3, 0, 1, 1, 2, 1, 0, 2, 3, 3, 3,\n",
              "       0, 0, 2, 0, 2, 1, 0, 1, 0, 2, 2, 3, 0, 3, 1, 1, 0, 3, 2, 2, 2, 0,\n",
              "       3, 1])"
            ]
          },
          "execution_count": 220,
          "metadata": {},
          "output_type": "execute_result"
        }
      ],
      "source": [
        "y"
      ]
    },
    {
      "cell_type": "markdown",
      "id": "13ccc616-3aec-485d-a023-9b9581f66422",
      "metadata": {
        "id": "13ccc616-3aec-485d-a023-9b9581f66422"
      },
      "source": [
        "- Why is the accuracy so low?\n",
        "\n",
        "ANSWER: Because the clusters numbers aren't matched so they gotta be relabeled"
      ]
    },
    {
      "cell_type": "markdown",
      "id": "2f296ee5-f04b-4906-8528-02d0613260f0",
      "metadata": {
        "id": "2f296ee5-f04b-4906-8528-02d0613260f0"
      },
      "source": [
        "# Question 8\n"
      ]
    },
    {
      "cell_type": "markdown",
      "id": "f058800f-5996-4df5-bbe1-1a6992db8d32",
      "metadata": {
        "id": "f058800f-5996-4df5-bbe1-1a6992db8d32"
      },
      "source": [
        "- Write a function that takes the number of clusters, the true labels, and the model predictions\n",
        "- The function should return a list **new labels** with length = number of clusters\n",
        "- The function should modify the predicted label of each cluster to be the **mode** (most common **true** label) among the data points in the cluster\n",
        "- Pseudocode:\n",
        "    - For each predicted cluster:\n",
        "        - Calculate mode of true labels of all points within the cluster\n",
        "        - The mode is the **new label** for this cluster\n"
      ]
    },
    {
      "cell_type": "code",
      "execution_count": 221,
      "id": "9806c811-4add-4b2e-811c-01355a644442",
      "metadata": {
        "id": "9806c811-4add-4b2e-811c-01355a644442"
      },
      "outputs": [],
      "source": [
        "import statistics as s\n",
        "def relabel(n_clusters, true_labels, pred_labels):\n",
        "    new_labels = []\n",
        "    for i in range(n_clusters):\n",
        "      cluster_label = true_labels[pred_labels == i]\n",
        "      cluster_mode = s.mode(cluster_label)\n",
        "      new_labels.append(cluster_mode)\n",
        "    return new_labels"
      ]
    },
    {
      "cell_type": "code",
      "execution_count": 222,
      "id": "uvugZmXiS38E",
      "metadata": {
        "id": "uvugZmXiS38E"
      },
      "outputs": [
        {
          "data": {
            "text/plain": [
              "[3, 2, 1, 0]"
            ]
          },
          "execution_count": 222,
          "metadata": {},
          "output_type": "execute_result"
        }
      ],
      "source": [
        "# print(y)\n",
        "new1 = relabel(4, y, pred_y)\n",
        "new1"
      ]
    },
    {
      "cell_type": "code",
      "execution_count": 223,
      "id": "f86f878f",
      "metadata": {},
      "outputs": [],
      "source": [
        "y_relabel = pred_y.copy()\n",
        "for i in range(len(pred_y)):\n",
        "    y_relabel[i] = new1[y_relabel[i]]"
      ]
    },
    {
      "cell_type": "code",
      "execution_count": 224,
      "id": "26f412b8-39df-4958-b35c-56aebceb28dc",
      "metadata": {
        "colab": {
          "base_uri": "https://localhost:8080/",
          "height": 182
        },
        "id": "26f412b8-39df-4958-b35c-56aebceb28dc",
        "outputId": "ca8efe70-6157-4a7f-dc77-47b931381bcd"
      },
      "outputs": [],
      "source": [
        "# new_labels = relabel(n_clusters, true_labels, pred_labels)\n",
        "# assert new_labels == n_clusters"
      ]
    },
    {
      "cell_type": "markdown",
      "id": "313aa025-d541-4730-91ca-2dae05afe643",
      "metadata": {
        "id": "313aa025-d541-4730-91ca-2dae05afe643"
      },
      "source": [
        "- Calculate the accuracy score of new labels for **ALL** data after relabeling data"
      ]
    },
    {
      "cell_type": "code",
      "execution_count": 225,
      "id": "72986438-a4d5-4fe6-80f3-9dfa0bc67c9d",
      "metadata": {
        "id": "72986438-a4d5-4fe6-80f3-9dfa0bc67c9d"
      },
      "outputs": [
        {
          "name": "stdout",
          "output_type": "stream",
          "text": [
            "Accuracy score is 0.99\n"
          ]
        }
      ],
      "source": [
        "from sklearn.metrics import accuracy_score\n",
        "print(\"Accuracy score is\", accuracy_score(y, y_relabel))"
      ]
    },
    {
      "cell_type": "markdown",
      "id": "3a1b48de-7961-4d46-9bb7-cb53de69a40b",
      "metadata": {
        "id": "3a1b48de-7961-4d46-9bb7-cb53de69a40b"
      },
      "source": [
        "# Question 9\n",
        "Write your own K-medoids clustering, where the Euclidian distance is used to evaluate the distance/ similarity between the dataset. The input to this function should be:\n",
        "- The number of clusters\n",
        "- The dataset\n",
        "\n",
        "The output should be:\n",
        "- The list of cluster centers"
      ]
    },
    {
      "cell_type": "code",
      "execution_count": 226,
      "id": "693cb4fe-d161-4990-8376-3173c361bd00",
      "metadata": {
        "id": "693cb4fe-d161-4990-8376-3173c361bd00"
      },
      "outputs": [],
      "source": [
        "def kmedoids_algo(X_data, k):\n",
        "\n",
        "        # Initialize the medoids randomly\n",
        "        m = X_data.shape[0]\n",
        "        idx = np.random.choice(m, k, replace=False)\n",
        "        medoids = X_data[idx]\n",
        "\n",
        "        # Assign each point to the closest medoid\n",
        "        labels = np.argmin(np.linalg.norm(X_data[:, None] - medoids[None], axis=-1), axis=-1)\n",
        "\n",
        "        # Update the medoids\n",
        "        for i in range(k):\n",
        "            medoid_idx = np.where(labels == i)[0]\n",
        "            if len(medoid_idx) > 0:\n",
        "                J = np.sum(np.linalg.norm(X_data[medoid_idx][:, None] - X_data[medoid_idx][None], axis=-1), axis=-1)\n",
        "                j = np.argmin(J)\n",
        "                idx[i] = medoid_idx[j]\n",
        "                medoids[i] = X_data[idx[i]]\n",
        "\n",
        "        # Repeat until convergence\n",
        "        while True:\n",
        "            labels_old = labels\n",
        "\n",
        "            # Assign each point to the closest medoid\n",
        "            labels = np.argmin(np.linalg.norm(X_data[:, None] - medoids[None], axis=-1), axis=-1)\n",
        "\n",
        "            # Check for convergence\n",
        "            if np.array_equal(labels, labels_old):\n",
        "                break\n",
        "\n",
        "            # Update the medoids\n",
        "            for i in range(k):\n",
        "                medoid_idx = np.where(labels == i)[0]\n",
        "                if len(medoid_idx) > 0:\n",
        "                    J = np.sum(np.linalg.norm(X_data[medoid_idx][:, None] - X_data[medoid_idx][None], axis=-1), axis=-1)\n",
        "                    j = np.argmin(J)\n",
        "                    idx[i] = medoid_idx[j]\n",
        "                    medoids[i] = X_data[idx[i]]\n",
        "\n",
        "        return labels, medoids"
      ]
    },
    {
      "cell_type": "markdown",
      "id": "b1b1f2dc-8e5f-4735-9946-fd9f17632fec",
      "metadata": {
        "id": "b1b1f2dc-8e5f-4735-9946-fd9f17632fec"
      },
      "source": [
        "- Apply YOUR k-medoids clustering algorithm with 4 clusters \n",
        "- Scatter Plot the points clusters along with the cluster center (use symbols to distinguish the cluster center from cluster point and the color codes to distinguish between the 4 clusters).\n",
        "\n",
        "- Use the data in the following link: https://www.stat.cmu.edu/~larry/all-of-statistics/=data/faithful.dat"
      ]
    },
    {
      "cell_type": "code",
      "execution_count": 227,
      "id": "92080141-ed95-494c-b0f4-3b76977790bf",
      "metadata": {
        "colab": {
          "base_uri": "https://localhost:8080/",
          "height": 432
        },
        "id": "92080141-ed95-494c-b0f4-3b76977790bf",
        "outputId": "2fcec2ad-6203-4da1-9784-8f748e954d87"
      },
      "outputs": [
        {
          "data": {
            "text/html": [
              "<div>\n",
              "<style scoped>\n",
              "    .dataframe tbody tr th:only-of-type {\n",
              "        vertical-align: middle;\n",
              "    }\n",
              "\n",
              "    .dataframe tbody tr th {\n",
              "        vertical-align: top;\n",
              "    }\n",
              "\n",
              "    .dataframe thead th {\n",
              "        text-align: right;\n",
              "    }\n",
              "</style>\n",
              "<table border=\"1\" class=\"dataframe\">\n",
              "  <thead>\n",
              "    <tr style=\"text-align: right;\">\n",
              "      <th></th>\n",
              "      <th>eruptions</th>\n",
              "      <th>waiting</th>\n",
              "    </tr>\n",
              "  </thead>\n",
              "  <tbody>\n",
              "    <tr>\n",
              "      <th>1</th>\n",
              "      <td>3.600</td>\n",
              "      <td>79</td>\n",
              "    </tr>\n",
              "    <tr>\n",
              "      <th>2</th>\n",
              "      <td>1.800</td>\n",
              "      <td>54</td>\n",
              "    </tr>\n",
              "    <tr>\n",
              "      <th>3</th>\n",
              "      <td>3.333</td>\n",
              "      <td>74</td>\n",
              "    </tr>\n",
              "    <tr>\n",
              "      <th>4</th>\n",
              "      <td>2.283</td>\n",
              "      <td>62</td>\n",
              "    </tr>\n",
              "    <tr>\n",
              "      <th>5</th>\n",
              "      <td>4.533</td>\n",
              "      <td>85</td>\n",
              "    </tr>\n",
              "    <tr>\n",
              "      <th>...</th>\n",
              "      <td>...</td>\n",
              "      <td>...</td>\n",
              "    </tr>\n",
              "    <tr>\n",
              "      <th>268</th>\n",
              "      <td>4.117</td>\n",
              "      <td>81</td>\n",
              "    </tr>\n",
              "    <tr>\n",
              "      <th>269</th>\n",
              "      <td>2.150</td>\n",
              "      <td>46</td>\n",
              "    </tr>\n",
              "    <tr>\n",
              "      <th>270</th>\n",
              "      <td>4.417</td>\n",
              "      <td>90</td>\n",
              "    </tr>\n",
              "    <tr>\n",
              "      <th>271</th>\n",
              "      <td>1.817</td>\n",
              "      <td>46</td>\n",
              "    </tr>\n",
              "    <tr>\n",
              "      <th>272</th>\n",
              "      <td>4.467</td>\n",
              "      <td>74</td>\n",
              "    </tr>\n",
              "  </tbody>\n",
              "</table>\n",
              "<p>272 rows × 2 columns</p>\n",
              "</div>"
            ],
            "text/plain": [
              "     eruptions  waiting\n",
              "1        3.600       79\n",
              "2        1.800       54\n",
              "3        3.333       74\n",
              "4        2.283       62\n",
              "5        4.533       85\n",
              "..         ...      ...\n",
              "268      4.117       81\n",
              "269      2.150       46\n",
              "270      4.417       90\n",
              "271      1.817       46\n",
              "272      4.467       74\n",
              "\n",
              "[272 rows x 2 columns]"
            ]
          },
          "execution_count": 227,
          "metadata": {},
          "output_type": "execute_result"
        }
      ],
      "source": [
        "import pandas as pd\n",
        "url ='https://www.stat.cmu.edu/~larry/all-of-statistics/=data/faithful.dat'\n",
        "data = pd.read_csv('faithful.dat.csv', sep='\\s+')\n",
        "data"
      ]
    },
    {
      "cell_type": "code",
      "execution_count": 228,
      "id": "9c8bbf65",
      "metadata": {},
      "outputs": [
        {
          "data": {
            "text/plain": [
              "array([[ 4.417, 83.   ],\n",
              "       [ 4.233, 76.   ],\n",
              "       [ 2.017, 52.   ],\n",
              "       [ 2.283, 62.   ]])"
            ]
          },
          "execution_count": 228,
          "metadata": {},
          "output_type": "execute_result"
        }
      ],
      "source": [
        "labels, med = kmedoids_algo(data.values, 4)\n",
        "med"
      ]
    },
    {
      "cell_type": "code",
      "execution_count": 229,
      "id": "3abf99f3",
      "metadata": {},
      "outputs": [
        {
          "data": {
            "image/png": "[encoded data removed]",
            "text/plain": [
              "<Figure size 432x288 with 1 Axes>"
            ]
          },
          "metadata": {
            "needs_background": "light"
          },
          "output_type": "display_data"
        }
      ],
      "source": [
        "plt.scatter(data['eruptions'], data['waiting'], c=labels)\n",
        "plt.scatter(med[:, 0], med[:, 1], marker = 'x', linewidths = 3 , c='r')\n",
        "plt.show()"
      ]
    },
    {
      "cell_type": "code",
      "execution_count": null,
      "id": "6e0870f2",
      "metadata": {},
      "outputs": [],
      "source": []
    }
  ],
  "metadata": {
    "colab": {
      "provenance": []
    },
    "kernelspec": {
      "display_name": "Python 3 (ipykernel)",
      "language": "python",
      "name": "python3"
    },
    "language_info": {
      "codemirror_mode": {
        "name": "ipython",
        "version": 3
      },
      "file_extension": ".py",
      "mimetype": "text/x-python",
      "name": "python",
      "nbconvert_exporter": "python",
      "pygments_lexer": "ipython3",
      "version": "3.10.4"
    }
  },
  "nbformat": 4,
  "nbformat_minor": 5
}
